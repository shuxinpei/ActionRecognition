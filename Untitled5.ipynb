{
 "cells": [
  {
   "cell_type": "code",
   "execution_count": 125,
   "metadata": {},
   "outputs": [],
   "source": [
    "import numpy as np  \n",
    "import scipy as sp  \n",
    "from  import svm  \n",
    "from sklearn.cross_validation import train_test_split  \n",
    "import matplotlib.pyplot as plt\n",
    "import sklearn.externals  \n",
    "from sklearn.model_selection import GridSearchCV\n",
    "import random\n",
    "#准备数据\n",
    "def GetSimpleAndTarget( ClassOne, ClassTwo):\n",
    "    data   = []  \n",
    "    labels = []  \n",
    "    a=0\n",
    "    with open(\"C:/Users/Administrator/Desktop/DS1.csv\") as ifile:  \n",
    "            for line in ifile:  \n",
    "                tokens = line.strip().split(',')\n",
    "                if a!=0:\n",
    "                    label = int(float(tokens[-1]))\n",
    "                    if( label==int(ClassOne) or label==int(ClassTwo)): \n",
    "                        data.append([float(tk) for tk in tokens[:-2]])  \n",
    "                        labels.append(int(float(tokens[-1])))\n",
    "                else:\n",
    "                    a=a+1\n",
    "    x = np.array(data)  \n",
    "    labels = np.array(labels)\n",
    "    labels.reshape(683,1)\n",
    "    return x,labels\n",
    "#data(683,45),labels(683,1)"
   ]
  },
  {
   "cell_type": "code",
   "execution_count": 126,
   "metadata": {},
   "outputs": [],
   "source": [
    "#随机取15个特征进行去除，返回一个新的（n,30）矩阵\n",
    "def ChangeDimension(data,count):\n",
    "    new_data=data\n",
    "    while(count>0):\n",
    "        index = random.randint(0,(44-15+count))\n",
    "        new_data = np.delete(new_data,index,axis=1)\n",
    "        count-=1\n",
    "    return new_data"
   ]
  },
  {
   "cell_type": "code",
   "execution_count": 127,
   "metadata": {},
   "outputs": [],
   "source": [
    "'''\n",
    "#使用SVM进行训练\n",
    "clf = svm.SVC(kernel=\"rbf\",gamma=0.00119155,probability=1)   \n",
    "clf.fit(data[:500], labels[:500])\n",
    "#得到预测结果\n",
    "result = clf.predict(data[-180:])\n",
    "print(result)\n",
    "'''\n",
    "#训练函数\n",
    "def trainData(data, labels):\n",
    "    clf = svm.SVC()\n",
    "    grid = GridSearchCV(clf,param_grid={\"C\":[0.37,0.3705,0.36995,0.37001], \"gamma\": [0.000000000051,0.00000000005,0.00000000049,0.00000000001]}, cv=4)\n",
    "    grid.fit(data, labels)\n",
    "    print(\"The best parameters are %s with a score of %0.2f\"% (grid.best_params_, grid.best_score_))\n",
    "    sklearn.externals.joblib.dump(grid, \"C:/Users/Administrator/Desktop/train_model.m\")"
   ]
  },
  {
   "cell_type": "code",
   "execution_count": 128,
   "metadata": {},
   "outputs": [
    {
     "name": "stdout",
     "output_type": "stream",
     "text": [
      "The best parameters are {'C': 0.37, 'gamma': 1e-11} with a score of 0.81\n"
     ]
    }
   ],
   "source": [
    "#准备数据，目标类别 1 2 ，\n",
    "data,labels = GetSimpleAndTarget(1,2)\n",
    "#随机去除15个特征\n",
    "data =ChangeDimension(data,15)\n",
    "#进行训练，并保存模型\n",
    "trainData(data, labels)"
   ]
  },
  {
   "cell_type": "code",
   "execution_count": 129,
   "metadata": {},
   "outputs": [],
   "source": [
    "#调用模型\n",
    "clf_new = sklearn.externals.joblib.load(\"C:/Users/Administrator/Desktop/train_model.m\")"
   ]
  },
  {
   "cell_type": "code",
   "execution_count": 130,
   "metadata": {},
   "outputs": [
    {
     "data": {
      "text/plain": [
       "array([2, 2, 2, 2, 2, 2, 2, 2, 2, 2, 2, 2, 2, 2, 2, 2, 2, 2, 2, 2, 2, 1,\n",
       "       1, 1, 1, 1, 1, 1, 1, 1, 1, 1, 1, 1, 1, 1, 1, 1, 1, 1, 1, 1, 1, 1,\n",
       "       1, 1, 1, 1, 1, 1, 1, 1, 1, 1, 1, 1, 1, 1, 1, 1, 1, 1, 1, 1, 1, 1,\n",
       "       1, 1, 1, 1, 1, 1, 1, 1, 1, 2, 2, 2, 2, 2, 2, 2, 2, 2, 2, 2, 2, 2,\n",
       "       2, 2, 2, 2, 2, 2, 2, 1, 1, 1, 1, 1, 1, 1, 1, 1, 1, 1, 1, 1, 1, 1,\n",
       "       1, 1, 1, 1, 1, 1, 1, 1, 1, 1, 1, 1, 1, 1, 1, 1, 1, 1, 1, 1, 1, 1,\n",
       "       1, 1, 1, 1, 1, 1, 1, 2, 2, 2, 2, 2, 2, 2, 2, 2, 2, 2, 2, 2, 2, 2,\n",
       "       2, 2, 2, 2, 2, 2, 2, 2, 2, 2, 2, 2, 2, 2, 2, 2, 2, 2, 2, 2, 2, 2,\n",
       "       2, 2, 2, 2])"
      ]
     },
     "execution_count": 130,
     "metadata": {},
     "output_type": "execute_result"
    }
   ],
   "source": [
    "#使用上面的数据进行验证，查看有没有用\n",
    "clf_new.predict(data[-180:])"
   ]
  }
 ],
 "metadata": {
  "kernelspec": {
   "display_name": "Python 3",
   "language": "python",
   "name": "python3"
  },
  "language_info": {
   "codemirror_mode": {
    "name": "ipython",
    "version": 3
   },
   "file_extension": ".py",
   "mimetype": "text/x-python",
   "name": "python",
   "nbconvert_exporter": "python",
   "pygments_lexer": "ipython3",
   "version": "3.6.4"
  }
 },
 "nbformat": 4,
 "nbformat_minor": 2
}
